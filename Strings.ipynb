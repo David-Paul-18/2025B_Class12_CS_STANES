{
 "cells": [
  {
   "cell_type": "code",
   "execution_count": 1,
   "id": "b37d5844",
   "metadata": {},
   "outputs": [
    {
     "ename": "NameError",
     "evalue": "name 'nitin' is not defined",
     "output_type": "error",
     "traceback": [
      "\u001b[1;31m---------------------------------------------------------------------------\u001b[0m",
      "\u001b[1;31mNameError\u001b[0m                                 Traceback (most recent call last)",
      "\u001b[1;32m~\\AppData\\Local\\Temp\\ipykernel_16016\\2669275653.py\u001b[0m in \u001b[0;36m<module>\u001b[1;34m\u001b[0m\n\u001b[1;32m----> 1\u001b[1;33m \u001b[0mname\u001b[0m\u001b[1;33m=\u001b[0m\u001b[0mnitin\u001b[0m\u001b[1;33m\u001b[0m\u001b[1;33m\u001b[0m\u001b[0m\n\u001b[0m",
      "\u001b[1;31mNameError\u001b[0m: name 'nitin' is not defined"
     ]
    }
   ],
   "source": [
    "name=nitin"
   ]
  },
  {
   "cell_type": "code",
   "execution_count": 2,
   "id": "dd755491",
   "metadata": {},
   "outputs": [],
   "source": [
    "name=\"nitin\""
   ]
  },
  {
   "cell_type": "code",
   "execution_count": 3,
   "id": "a6d00fb5",
   "metadata": {},
   "outputs": [
    {
     "data": {
      "text/plain": [
       "'nitin'"
      ]
     },
     "execution_count": 3,
     "metadata": {},
     "output_type": "execute_result"
    }
   ],
   "source": [
    "name"
   ]
  },
  {
   "cell_type": "code",
   "execution_count": 9,
   "id": "6f5b5d44",
   "metadata": {},
   "outputs": [],
   "source": [
    "stmt=\"hello\\n\\\n",
    "welcome\\n\\\n",
    "to\\n\\\n",
    "Stanes\""
   ]
  },
  {
   "cell_type": "code",
   "execution_count": 11,
   "id": "4476d0c0",
   "metadata": {},
   "outputs": [
    {
     "name": "stdout",
     "output_type": "stream",
     "text": [
      "hello\n",
      "welcome\n",
      "to\n",
      "Stanes\n"
     ]
    }
   ],
   "source": [
    "print(stmt)"
   ]
  },
  {
   "cell_type": "code",
   "execution_count": 12,
   "id": "029d5596",
   "metadata": {},
   "outputs": [],
   "source": [
    "stmt='''hello\n",
    "welcome\n",
    "to\n",
    "stanes'''"
   ]
  },
  {
   "cell_type": "code",
   "execution_count": 13,
   "id": "d328cfbc",
   "metadata": {},
   "outputs": [
    {
     "data": {
      "text/plain": [
       "'hello\\nwelcome\\nto\\nstanes'"
      ]
     },
     "execution_count": 13,
     "metadata": {},
     "output_type": "execute_result"
    }
   ],
   "source": [
    "stmt"
   ]
  },
  {
   "cell_type": "code",
   "execution_count": 14,
   "id": "2f77c634",
   "metadata": {},
   "outputs": [
    {
     "name": "stdout",
     "output_type": "stream",
     "text": [
      "hello\n",
      "welcome\n",
      "to\n",
      "stanes\n"
     ]
    }
   ],
   "source": [
    "print(stmt)"
   ]
  },
  {
   "cell_type": "code",
   "execution_count": 15,
   "id": "e9031760",
   "metadata": {},
   "outputs": [],
   "source": [
    "s=\"kjadfhkldsz\""
   ]
  },
  {
   "cell_type": "code",
   "execution_count": 16,
   "id": "82bb77f1",
   "metadata": {},
   "outputs": [
    {
     "data": {
      "text/plain": [
       "'kjadfhkldsz'"
      ]
     },
     "execution_count": 16,
     "metadata": {},
     "output_type": "execute_result"
    }
   ],
   "source": [
    "s"
   ]
  },
  {
   "cell_type": "code",
   "execution_count": 17,
   "id": "ed12214a",
   "metadata": {},
   "outputs": [
    {
     "name": "stdout",
     "output_type": "stream",
     "text": [
      "kjadfhkldsz\n"
     ]
    }
   ],
   "source": [
    "print(s)"
   ]
  },
  {
   "cell_type": "code",
   "execution_count": 18,
   "id": "386797eb",
   "metadata": {},
   "outputs": [],
   "source": [
    "text=\"Adhvaidh\\nPrakash\""
   ]
  },
  {
   "cell_type": "code",
   "execution_count": 22,
   "id": "c7875864",
   "metadata": {},
   "outputs": [
    {
     "name": "stdout",
     "output_type": "stream",
     "text": [
      "Adhvaidh\tPrakash\n"
     ]
    }
   ],
   "source": [
    "print(text)"
   ]
  },
  {
   "cell_type": "code",
   "execution_count": 20,
   "id": "bea4aa26",
   "metadata": {},
   "outputs": [],
   "source": [
    "text=\"Adhvaidh\\tPrakash\""
   ]
  },
  {
   "cell_type": "code",
   "execution_count": 21,
   "id": "21095873",
   "metadata": {},
   "outputs": [
    {
     "name": "stdout",
     "output_type": "stream",
     "text": [
      "Adhvaidh\tPrakash\n"
     ]
    }
   ],
   "source": [
    "print(text)"
   ]
  },
  {
   "cell_type": "code",
   "execution_count": 23,
   "id": "a08ba9c3",
   "metadata": {},
   "outputs": [
    {
     "data": {
      "text/plain": [
       "'Adhvaidh\\tPrakash'"
      ]
     },
     "execution_count": 23,
     "metadata": {},
     "output_type": "execute_result"
    }
   ],
   "source": [
    "text"
   ]
  },
  {
   "cell_type": "code",
   "execution_count": 24,
   "id": "7d53fe57",
   "metadata": {},
   "outputs": [],
   "source": [
    "text=\"Adhvaidh Prakash\""
   ]
  },
  {
   "cell_type": "code",
   "execution_count": 25,
   "id": "aa09a8b7",
   "metadata": {},
   "outputs": [
    {
     "data": {
      "text/plain": [
       "'Adhvaidh Prakash'"
      ]
     },
     "execution_count": 25,
     "metadata": {},
     "output_type": "execute_result"
    }
   ],
   "source": [
    "text"
   ]
  },
  {
   "cell_type": "code",
   "execution_count": 26,
   "id": "9c8b44c5",
   "metadata": {},
   "outputs": [
    {
     "data": {
      "text/plain": [
       "'A'"
      ]
     },
     "execution_count": 26,
     "metadata": {},
     "output_type": "execute_result"
    }
   ],
   "source": [
    "text[0]"
   ]
  },
  {
   "cell_type": "code",
   "execution_count": 27,
   "id": "04b7b491",
   "metadata": {},
   "outputs": [
    {
     "data": {
      "text/plain": [
       "'d'"
      ]
     },
     "execution_count": 27,
     "metadata": {},
     "output_type": "execute_result"
    }
   ],
   "source": [
    "text[1]"
   ]
  },
  {
   "cell_type": "code",
   "execution_count": 28,
   "id": "fca97a82",
   "metadata": {},
   "outputs": [
    {
     "data": {
      "text/plain": [
       "'h'"
      ]
     },
     "execution_count": 28,
     "metadata": {},
     "output_type": "execute_result"
    }
   ],
   "source": [
    "text[-1]"
   ]
  },
  {
   "cell_type": "code",
   "execution_count": 29,
   "id": "ebe606bf",
   "metadata": {},
   "outputs": [
    {
     "data": {
      "text/plain": [
       "'h'"
      ]
     },
     "execution_count": 29,
     "metadata": {},
     "output_type": "execute_result"
    }
   ],
   "source": [
    "text[len(text)-1]"
   ]
  },
  {
   "cell_type": "code",
   "execution_count": 30,
   "id": "a32ba48e",
   "metadata": {},
   "outputs": [],
   "source": [
    "last=len(text)-1"
   ]
  },
  {
   "cell_type": "code",
   "execution_count": 31,
   "id": "bdb11a35",
   "metadata": {},
   "outputs": [
    {
     "data": {
      "text/plain": [
       "15"
      ]
     },
     "execution_count": 31,
     "metadata": {},
     "output_type": "execute_result"
    }
   ],
   "source": [
    "last"
   ]
  },
  {
   "cell_type": "code",
   "execution_count": 32,
   "id": "f8c66da7",
   "metadata": {},
   "outputs": [
    {
     "data": {
      "text/plain": [
       "16"
      ]
     },
     "execution_count": 32,
     "metadata": {},
     "output_type": "execute_result"
    }
   ],
   "source": [
    "len(text)"
   ]
  },
  {
   "cell_type": "code",
   "execution_count": 37,
   "id": "f634c13e",
   "metadata": {},
   "outputs": [
    {
     "name": "stdout",
     "output_type": "stream",
     "text": [
      "A 0 -16\n",
      "d 1 -15\n",
      "h 2 -14\n",
      "v 3 -13\n",
      "a 4 -12\n",
      "i 5 -11\n",
      "d 6 -10\n",
      "h 7 -9\n",
      "  8 -8\n",
      "P 9 -7\n",
      "r 10 -6\n",
      "a 11 -5\n",
      "k 12 -4\n",
      "a 13 -3\n",
      "s 14 -2\n",
      "h 15 -1\n"
     ]
    }
   ],
   "source": [
    "for loop in range(len(text)):\n",
    "    print(text[loop],loop,loop-len(text))"
   ]
  },
  {
   "cell_type": "code",
   "execution_count": null,
   "id": "9c6c2b95",
   "metadata": {},
   "outputs": [],
   "source": [
    "range(start,stop,step)"
   ]
  },
  {
   "cell_type": "code",
   "execution_count": null,
   "id": "f05f62bb",
   "metadata": {},
   "outputs": [],
   "source": [
    "text[start:stop:step]"
   ]
  },
  {
   "cell_type": "code",
   "execution_count": 1,
   "id": "f9c08781",
   "metadata": {},
   "outputs": [],
   "source": [
    "word=\"Jupyter Notebook\""
   ]
  },
  {
   "cell_type": "code",
   "execution_count": 2,
   "id": "8e90f9e4",
   "metadata": {},
   "outputs": [
    {
     "data": {
      "text/plain": [
       "'e'"
      ]
     },
     "execution_count": 2,
     "metadata": {},
     "output_type": "execute_result"
    }
   ],
   "source": [
    "word[5]"
   ]
  },
  {
   "cell_type": "code",
   "execution_count": 3,
   "id": "09e2f4d2",
   "metadata": {},
   "outputs": [
    {
     "data": {
      "text/plain": [
       "'k'"
      ]
     },
     "execution_count": 3,
     "metadata": {},
     "output_type": "execute_result"
    }
   ],
   "source": [
    "word[-1]"
   ]
  },
  {
   "cell_type": "code",
   "execution_count": 4,
   "id": "f98ae40c",
   "metadata": {},
   "outputs": [
    {
     "data": {
      "text/plain": [
       "'e'"
      ]
     },
     "execution_count": 4,
     "metadata": {},
     "output_type": "execute_result"
    }
   ],
   "source": [
    "word[-5]"
   ]
  },
  {
   "cell_type": "code",
   "execution_count": 5,
   "id": "20499237",
   "metadata": {},
   "outputs": [
    {
     "data": {
      "text/plain": [
       "'e'"
      ]
     },
     "execution_count": 5,
     "metadata": {},
     "output_type": "execute_result"
    }
   ],
   "source": [
    "word[-11]"
   ]
  },
  {
   "cell_type": "code",
   "execution_count": 6,
   "id": "9cfd178b",
   "metadata": {},
   "outputs": [
    {
     "data": {
      "text/plain": [
       "'N'"
      ]
     },
     "execution_count": 6,
     "metadata": {},
     "output_type": "execute_result"
    }
   ],
   "source": [
    "word[8]"
   ]
  },
  {
   "cell_type": "code",
   "execution_count": 7,
   "id": "8f93db3a",
   "metadata": {},
   "outputs": [
    {
     "data": {
      "text/plain": [
       "' '"
      ]
     },
     "execution_count": 7,
     "metadata": {},
     "output_type": "execute_result"
    }
   ],
   "source": [
    "word[7]"
   ]
  },
  {
   "cell_type": "code",
   "execution_count": 8,
   "id": "98b168f2",
   "metadata": {},
   "outputs": [
    {
     "ename": "IndexError",
     "evalue": "string index out of range",
     "output_type": "error",
     "traceback": [
      "\u001b[1;31m---------------------------------------------------------------------------\u001b[0m",
      "\u001b[1;31mIndexError\u001b[0m                                Traceback (most recent call last)",
      "\u001b[1;32m~\\AppData\\Local\\Temp\\ipykernel_2824\\1817561126.py\u001b[0m in \u001b[0;36m<module>\u001b[1;34m\u001b[0m\n\u001b[1;32m----> 1\u001b[1;33m \u001b[0mword\u001b[0m\u001b[1;33m[\u001b[0m\u001b[1;36m75\u001b[0m\u001b[1;33m]\u001b[0m\u001b[1;33m\u001b[0m\u001b[1;33m\u001b[0m\u001b[0m\n\u001b[0m",
      "\u001b[1;31mIndexError\u001b[0m: string index out of range"
     ]
    }
   ],
   "source": [
    "word[75]"
   ]
  },
  {
   "cell_type": "code",
   "execution_count": 9,
   "id": "4d67ada4",
   "metadata": {},
   "outputs": [
    {
     "ename": "IndexError",
     "evalue": "string index out of range",
     "output_type": "error",
     "traceback": [
      "\u001b[1;31m---------------------------------------------------------------------------\u001b[0m",
      "\u001b[1;31mIndexError\u001b[0m                                Traceback (most recent call last)",
      "\u001b[1;32m~\\AppData\\Local\\Temp\\ipykernel_2824\\110036263.py\u001b[0m in \u001b[0;36m<module>\u001b[1;34m\u001b[0m\n\u001b[1;32m----> 1\u001b[1;33m \u001b[0mword\u001b[0m\u001b[1;33m[\u001b[0m\u001b[1;33m-\u001b[0m\u001b[1;36m75\u001b[0m\u001b[1;33m]\u001b[0m\u001b[1;33m\u001b[0m\u001b[1;33m\u001b[0m\u001b[0m\n\u001b[0m",
      "\u001b[1;31mIndexError\u001b[0m: string index out of range"
     ]
    }
   ],
   "source": [
    "word[-75]"
   ]
  },
  {
   "cell_type": "code",
   "execution_count": null,
   "id": "fd184331",
   "metadata": {},
   "outputs": [],
   "source": []
  }
 ],
 "metadata": {
  "kernelspec": {
   "display_name": "Python 3 (ipykernel)",
   "language": "python",
   "name": "python3"
  },
  "language_info": {
   "codemirror_mode": {
    "name": "ipython",
    "version": 3
   },
   "file_extension": ".py",
   "mimetype": "text/x-python",
   "name": "python",
   "nbconvert_exporter": "python",
   "pygments_lexer": "ipython3",
   "version": "3.9.13"
  }
 },
 "nbformat": 4,
 "nbformat_minor": 5
}
