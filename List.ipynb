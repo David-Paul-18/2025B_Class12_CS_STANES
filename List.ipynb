{
 "cells": [
  {
   "cell_type": "code",
   "execution_count": 1,
   "id": "7c3a7837",
   "metadata": {},
   "outputs": [],
   "source": [
    "ls=[4,67,32,46,2,9,3]"
   ]
  },
  {
   "cell_type": "code",
   "execution_count": 2,
   "id": "fd1ce45b",
   "metadata": {},
   "outputs": [
    {
     "data": {
      "text/plain": [
       "[4, 67, 32, 46, 2, 9, 3]"
      ]
     },
     "execution_count": 2,
     "metadata": {},
     "output_type": "execute_result"
    }
   ],
   "source": [
    "ls"
   ]
  },
  {
   "cell_type": "code",
   "execution_count": null,
   "id": "0d404c71",
   "metadata": {},
   "outputs": [],
   "source": [
    "list():\n",
    "    1.append()\n",
    "    2.extend()\n",
    "    3.insert()\n",
    "    \n",
    "    1.pop()\n",
    "    2.remove()\n",
    "    3.clear()"
   ]
  },
  {
   "cell_type": "code",
   "execution_count": 3,
   "id": "3f13d7a2",
   "metadata": {},
   "outputs": [
    {
     "data": {
      "text/plain": [
       "[4, 67, 32, 46, 2, 9, 3]"
      ]
     },
     "execution_count": 3,
     "metadata": {},
     "output_type": "execute_result"
    }
   ],
   "source": [
    "ls"
   ]
  },
  {
   "cell_type": "code",
   "execution_count": 5,
   "id": "1661a73e",
   "metadata": {},
   "outputs": [
    {
     "name": "stdout",
     "output_type": "stream",
     "text": [
      "None\n"
     ]
    }
   ],
   "source": [
    "print(ls.append(10))"
   ]
  },
  {
   "cell_type": "code",
   "execution_count": 6,
   "id": "352a176f",
   "metadata": {},
   "outputs": [
    {
     "data": {
      "text/plain": [
       "[4, 67, 32, 46, 2, 9, 3, 10, 10]"
      ]
     },
     "execution_count": 6,
     "metadata": {},
     "output_type": "execute_result"
    }
   ],
   "source": [
    "ls"
   ]
  },
  {
   "cell_type": "code",
   "execution_count": 7,
   "id": "13c8d5d6",
   "metadata": {},
   "outputs": [
    {
     "ename": "TypeError",
     "evalue": "list.append() takes exactly one argument (2 given)",
     "output_type": "error",
     "traceback": [
      "\u001b[1;31m---------------------------------------------------------------------------\u001b[0m",
      "\u001b[1;31mTypeError\u001b[0m                                 Traceback (most recent call last)",
      "\u001b[1;32m~\\AppData\\Local\\Temp\\ipykernel_16296\\1984667024.py\u001b[0m in \u001b[0;36m<module>\u001b[1;34m\u001b[0m\n\u001b[1;32m----> 1\u001b[1;33m \u001b[0mls\u001b[0m\u001b[1;33m.\u001b[0m\u001b[0mappend\u001b[0m\u001b[1;33m(\u001b[0m\u001b[1;36m10\u001b[0m\u001b[1;33m,\u001b[0m\u001b[1;36m11\u001b[0m\u001b[1;33m)\u001b[0m\u001b[1;33m\u001b[0m\u001b[1;33m\u001b[0m\u001b[0m\n\u001b[0m",
      "\u001b[1;31mTypeError\u001b[0m: list.append() takes exactly one argument (2 given)"
     ]
    }
   ],
   "source": [
    "ls.append(10,11)"
   ]
  },
  {
   "cell_type": "code",
   "execution_count": 8,
   "id": "51640510",
   "metadata": {},
   "outputs": [],
   "source": [
    "ls.append((10,11))"
   ]
  },
  {
   "cell_type": "code",
   "execution_count": 9,
   "id": "877b1443",
   "metadata": {},
   "outputs": [
    {
     "data": {
      "text/plain": [
       "[4, 67, 32, 46, 2, 9, 3, 10, 10, (10, 11)]"
      ]
     },
     "execution_count": 9,
     "metadata": {},
     "output_type": "execute_result"
    }
   ],
   "source": [
    "ls"
   ]
  },
  {
   "cell_type": "code",
   "execution_count": 13,
   "id": "13a4505f",
   "metadata": {},
   "outputs": [],
   "source": [
    "ls.append(\"string\")"
   ]
  },
  {
   "cell_type": "code",
   "execution_count": 14,
   "id": "8dcf74ed",
   "metadata": {},
   "outputs": [
    {
     "data": {
      "text/plain": [
       "[4, 67, 32, 46, 2, 9, 3, 10, 10, (10, 11), [1, 2], 'string']"
      ]
     },
     "execution_count": 14,
     "metadata": {},
     "output_type": "execute_result"
    }
   ],
   "source": [
    "ls"
   ]
  },
  {
   "cell_type": "code",
   "execution_count": 12,
   "id": "cc1e407a",
   "metadata": {},
   "outputs": [],
   "source": [
    "lst=[32,5,6,2,2]"
   ]
  },
  {
   "cell_type": "code",
   "execution_count": 15,
   "id": "636f49b9",
   "metadata": {},
   "outputs": [],
   "source": [
    "lst.extend('string')"
   ]
  },
  {
   "cell_type": "code",
   "execution_count": 16,
   "id": "1b50deea",
   "metadata": {},
   "outputs": [
    {
     "data": {
      "text/plain": [
       "[32, 5, 6, 2, 2, 's', 't', 'r', 'i', 'n', 'g']"
      ]
     },
     "execution_count": 16,
     "metadata": {},
     "output_type": "execute_result"
    }
   ],
   "source": [
    "lst"
   ]
  },
  {
   "cell_type": "code",
   "execution_count": 17,
   "id": "26339b1a",
   "metadata": {},
   "outputs": [],
   "source": [
    "lst.extend([1,2,3])"
   ]
  },
  {
   "cell_type": "code",
   "execution_count": 18,
   "id": "394f79e6",
   "metadata": {},
   "outputs": [
    {
     "data": {
      "text/plain": [
       "[32, 5, 6, 2, 2, 's', 't', 'r', 'i', 'n', 'g', 1, 2, 3]"
      ]
     },
     "execution_count": 18,
     "metadata": {},
     "output_type": "execute_result"
    }
   ],
   "source": [
    "lst"
   ]
  },
  {
   "cell_type": "code",
   "execution_count": 20,
   "id": "efaf7fc3",
   "metadata": {},
   "outputs": [],
   "source": [
    "lst.extend([20])"
   ]
  },
  {
   "cell_type": "code",
   "execution_count": 21,
   "id": "75214788",
   "metadata": {},
   "outputs": [
    {
     "data": {
      "text/plain": [
       "[32, 5, 6, 2, 2, 's', 't', 'r', 'i', 'n', 'g', 1, 2, 3, 20]"
      ]
     },
     "execution_count": 21,
     "metadata": {},
     "output_type": "execute_result"
    }
   ],
   "source": [
    "lst"
   ]
  },
  {
   "cell_type": "code",
   "execution_count": 22,
   "id": "0e8e1ca7",
   "metadata": {},
   "outputs": [],
   "source": [
    "lst=[2,3,5]"
   ]
  },
  {
   "cell_type": "code",
   "execution_count": 23,
   "id": "db3fc971",
   "metadata": {},
   "outputs": [
    {
     "data": {
      "text/plain": [
       "[2, 3, 5]"
      ]
     },
     "execution_count": 23,
     "metadata": {},
     "output_type": "execute_result"
    }
   ],
   "source": [
    "lst"
   ]
  },
  {
   "cell_type": "code",
   "execution_count": 24,
   "id": "6c7c2f0b",
   "metadata": {},
   "outputs": [],
   "source": [
    "lst.insert(1,40)"
   ]
  },
  {
   "cell_type": "code",
   "execution_count": 25,
   "id": "a8b1bbb5",
   "metadata": {},
   "outputs": [
    {
     "data": {
      "text/plain": [
       "[2, 40, 3, 5]"
      ]
     },
     "execution_count": 25,
     "metadata": {},
     "output_type": "execute_result"
    }
   ],
   "source": [
    "lst"
   ]
  },
  {
   "cell_type": "code",
   "execution_count": 26,
   "id": "cc9fe327",
   "metadata": {},
   "outputs": [],
   "source": [
    "lst.insert(-1,55)"
   ]
  },
  {
   "cell_type": "code",
   "execution_count": 27,
   "id": "6339a2a7",
   "metadata": {},
   "outputs": [
    {
     "data": {
      "text/plain": [
       "[2, 40, 3, 55, 5]"
      ]
     },
     "execution_count": 27,
     "metadata": {},
     "output_type": "execute_result"
    }
   ],
   "source": [
    "lst"
   ]
  },
  {
   "cell_type": "code",
   "execution_count": 29,
   "id": "cd3cd8ef",
   "metadata": {},
   "outputs": [],
   "source": [
    "lst.insert(-2,100)"
   ]
  },
  {
   "cell_type": "code",
   "execution_count": 30,
   "id": "1c13cc29",
   "metadata": {},
   "outputs": [
    {
     "data": {
      "text/plain": [
       "[2, 40, 3, 100, 55, 5]"
      ]
     },
     "execution_count": 30,
     "metadata": {},
     "output_type": "execute_result"
    }
   ],
   "source": [
    "lst"
   ]
  },
  {
   "cell_type": "code",
   "execution_count": 31,
   "id": "b0327459",
   "metadata": {},
   "outputs": [
    {
     "data": {
      "text/plain": [
       "[2, 40, 3, 100, 55, 5]"
      ]
     },
     "execution_count": 31,
     "metadata": {},
     "output_type": "execute_result"
    }
   ],
   "source": [
    "lst"
   ]
  },
  {
   "cell_type": "code",
   "execution_count": 32,
   "id": "445fcd3d",
   "metadata": {},
   "outputs": [
    {
     "data": {
      "text/plain": [
       "5"
      ]
     },
     "execution_count": 32,
     "metadata": {},
     "output_type": "execute_result"
    }
   ],
   "source": [
    "lst.pop()"
   ]
  },
  {
   "cell_type": "code",
   "execution_count": 33,
   "id": "cd1d1f23",
   "metadata": {},
   "outputs": [
    {
     "data": {
      "text/plain": [
       "[2, 40, 3, 100, 55]"
      ]
     },
     "execution_count": 33,
     "metadata": {},
     "output_type": "execute_result"
    }
   ],
   "source": [
    "lst"
   ]
  },
  {
   "cell_type": "code",
   "execution_count": 34,
   "id": "fcbfd554",
   "metadata": {},
   "outputs": [],
   "source": [
    "del_elm=lst.pop()"
   ]
  },
  {
   "cell_type": "code",
   "execution_count": 35,
   "id": "4a31532c",
   "metadata": {},
   "outputs": [
    {
     "data": {
      "text/plain": [
       "[2, 40, 3, 100]"
      ]
     },
     "execution_count": 35,
     "metadata": {},
     "output_type": "execute_result"
    }
   ],
   "source": [
    "lst"
   ]
  },
  {
   "cell_type": "code",
   "execution_count": 36,
   "id": "7abbc551",
   "metadata": {},
   "outputs": [
    {
     "data": {
      "text/plain": [
       "55"
      ]
     },
     "execution_count": 36,
     "metadata": {},
     "output_type": "execute_result"
    }
   ],
   "source": [
    "del_elm"
   ]
  },
  {
   "cell_type": "code",
   "execution_count": 37,
   "id": "5547a9db",
   "metadata": {},
   "outputs": [
    {
     "data": {
      "text/plain": [
       "[4, 67, 32, 46, 2, 9, 3, 10, 10, (10, 11), [1, 2], 'string']"
      ]
     },
     "execution_count": 37,
     "metadata": {},
     "output_type": "execute_result"
    }
   ],
   "source": [
    "ls"
   ]
  },
  {
   "cell_type": "code",
   "execution_count": 38,
   "id": "adf2d5a0",
   "metadata": {},
   "outputs": [
    {
     "data": {
      "text/plain": [
       "67"
      ]
     },
     "execution_count": 38,
     "metadata": {},
     "output_type": "execute_result"
    }
   ],
   "source": [
    "ls.pop(1)"
   ]
  },
  {
   "cell_type": "code",
   "execution_count": 39,
   "id": "bf026f30",
   "metadata": {},
   "outputs": [
    {
     "data": {
      "text/plain": [
       "[4, 32, 46, 2, 9, 3, 10, 10, (10, 11), [1, 2], 'string']"
      ]
     },
     "execution_count": 39,
     "metadata": {},
     "output_type": "execute_result"
    }
   ],
   "source": [
    "ls"
   ]
  },
  {
   "cell_type": "code",
   "execution_count": 40,
   "id": "cd9f52ff",
   "metadata": {},
   "outputs": [
    {
     "data": {
      "text/plain": [
       "[1, 2]"
      ]
     },
     "execution_count": 40,
     "metadata": {},
     "output_type": "execute_result"
    }
   ],
   "source": [
    "ls.pop(-2)"
   ]
  },
  {
   "cell_type": "code",
   "execution_count": 41,
   "id": "26d5a0a0",
   "metadata": {},
   "outputs": [
    {
     "data": {
      "text/plain": [
       "[4, 32, 46, 2, 9, 3, 10, 10, (10, 11), 'string']"
      ]
     },
     "execution_count": 41,
     "metadata": {},
     "output_type": "execute_result"
    }
   ],
   "source": [
    "ls"
   ]
  },
  {
   "cell_type": "code",
   "execution_count": 42,
   "id": "27e6e066",
   "metadata": {},
   "outputs": [
    {
     "data": {
      "text/plain": [
       "[4, 32, 46, 2, 9, 3, 10, 10, (10, 11), 'string']"
      ]
     },
     "execution_count": 42,
     "metadata": {},
     "output_type": "execute_result"
    }
   ],
   "source": [
    "ls"
   ]
  },
  {
   "cell_type": "code",
   "execution_count": 44,
   "id": "8fe73256",
   "metadata": {},
   "outputs": [],
   "source": [
    "ls.remove(32)"
   ]
  },
  {
   "cell_type": "code",
   "execution_count": 45,
   "id": "a9fd42cd",
   "metadata": {},
   "outputs": [
    {
     "data": {
      "text/plain": [
       "[4, 46, 2, 9, 3, 10, 10, (10, 11), 'string']"
      ]
     },
     "execution_count": 45,
     "metadata": {},
     "output_type": "execute_result"
    }
   ],
   "source": [
    "ls"
   ]
  },
  {
   "cell_type": "code",
   "execution_count": 46,
   "id": "6eafc06c",
   "metadata": {},
   "outputs": [],
   "source": [
    "ls.remove(10)"
   ]
  },
  {
   "cell_type": "code",
   "execution_count": 47,
   "id": "3e0df3b4",
   "metadata": {},
   "outputs": [
    {
     "data": {
      "text/plain": [
       "[4, 46, 2, 9, 3, 10, (10, 11), 'string']"
      ]
     },
     "execution_count": 47,
     "metadata": {},
     "output_type": "execute_result"
    }
   ],
   "source": [
    "ls"
   ]
  },
  {
   "cell_type": "code",
   "execution_count": 48,
   "id": "76f1e314",
   "metadata": {},
   "outputs": [],
   "source": [
    "ls=[1,3,56,1.0]"
   ]
  },
  {
   "cell_type": "code",
   "execution_count": 49,
   "id": "e8c8dcb9",
   "metadata": {},
   "outputs": [],
   "source": [
    "ls.remove(1.0)"
   ]
  },
  {
   "cell_type": "code",
   "execution_count": 50,
   "id": "f3c3584a",
   "metadata": {},
   "outputs": [
    {
     "data": {
      "text/plain": [
       "[3, 56, 1.0]"
      ]
     },
     "execution_count": 50,
     "metadata": {},
     "output_type": "execute_result"
    }
   ],
   "source": [
    "ls"
   ]
  },
  {
   "cell_type": "code",
   "execution_count": 51,
   "id": "92df14c8",
   "metadata": {},
   "outputs": [],
   "source": [
    "ls.clear()"
   ]
  },
  {
   "cell_type": "code",
   "execution_count": 52,
   "id": "c541076e",
   "metadata": {},
   "outputs": [
    {
     "data": {
      "text/plain": [
       "[]"
      ]
     },
     "execution_count": 52,
     "metadata": {},
     "output_type": "execute_result"
    }
   ],
   "source": [
    "ls"
   ]
  },
  {
   "cell_type": "code",
   "execution_count": 56,
   "id": "ce80bcde",
   "metadata": {},
   "outputs": [
    {
     "data": {
      "text/plain": [
       "[2, 40, 3, 100]"
      ]
     },
     "execution_count": 56,
     "metadata": {},
     "output_type": "execute_result"
    }
   ],
   "source": [
    "lst"
   ]
  },
  {
   "cell_type": "code",
   "execution_count": 57,
   "id": "be9a72ae",
   "metadata": {},
   "outputs": [],
   "source": [
    "lst.extend([1,2,5,72,])"
   ]
  },
  {
   "cell_type": "code",
   "execution_count": 58,
   "id": "86b881c0",
   "metadata": {},
   "outputs": [
    {
     "data": {
      "text/plain": [
       "[2, 40, 3, 100, 1, 2, 5, 72]"
      ]
     },
     "execution_count": 58,
     "metadata": {},
     "output_type": "execute_result"
    }
   ],
   "source": [
    "lst"
   ]
  },
  {
   "cell_type": "code",
   "execution_count": 59,
   "id": "4660cbd3",
   "metadata": {},
   "outputs": [],
   "source": [
    "lst.sort()"
   ]
  },
  {
   "cell_type": "code",
   "execution_count": 60,
   "id": "e0252739",
   "metadata": {},
   "outputs": [
    {
     "data": {
      "text/plain": [
       "[1, 2, 2, 3, 5, 40, 72, 100]"
      ]
     },
     "execution_count": 60,
     "metadata": {},
     "output_type": "execute_result"
    }
   ],
   "source": [
    "lst"
   ]
  },
  {
   "cell_type": "code",
   "execution_count": 61,
   "id": "5e247420",
   "metadata": {},
   "outputs": [],
   "source": [
    "lst.sort(reverse=True)"
   ]
  },
  {
   "cell_type": "code",
   "execution_count": 62,
   "id": "e374ebbf",
   "metadata": {},
   "outputs": [
    {
     "data": {
      "text/plain": [
       "[100, 72, 40, 5, 3, 2, 2, 1]"
      ]
     },
     "execution_count": 62,
     "metadata": {},
     "output_type": "execute_result"
    }
   ],
   "source": [
    "lst"
   ]
  },
  {
   "cell_type": "code",
   "execution_count": 63,
   "id": "eb095d95",
   "metadata": {},
   "outputs": [],
   "source": [
    "ls=[1,3,5,7,32,4]"
   ]
  },
  {
   "cell_type": "code",
   "execution_count": 64,
   "id": "ab399437",
   "metadata": {},
   "outputs": [],
   "source": [
    "ls.reverse()"
   ]
  },
  {
   "cell_type": "code",
   "execution_count": 65,
   "id": "e3862b70",
   "metadata": {},
   "outputs": [
    {
     "data": {
      "text/plain": [
       "[4, 32, 7, 5, 3, 1]"
      ]
     },
     "execution_count": 65,
     "metadata": {},
     "output_type": "execute_result"
    }
   ],
   "source": [
    "ls"
   ]
  },
  {
   "cell_type": "code",
   "execution_count": 66,
   "id": "e9a25c88",
   "metadata": {},
   "outputs": [],
   "source": [
    "ls.sort(reverse=True)"
   ]
  },
  {
   "cell_type": "code",
   "execution_count": 67,
   "id": "a1f62811",
   "metadata": {},
   "outputs": [
    {
     "data": {
      "text/plain": [
       "[32, 7, 5, 4, 3, 1]"
      ]
     },
     "execution_count": 67,
     "metadata": {},
     "output_type": "execute_result"
    }
   ],
   "source": [
    "ls"
   ]
  },
  {
   "cell_type": "code",
   "execution_count": 76,
   "id": "180b8038",
   "metadata": {},
   "outputs": [],
   "source": [
    "alpls=['e','t','A','a','h','z','F','6','4']"
   ]
  },
  {
   "cell_type": "code",
   "execution_count": 77,
   "id": "21475de8",
   "metadata": {},
   "outputs": [],
   "source": [
    "alpls.sort()"
   ]
  },
  {
   "cell_type": "code",
   "execution_count": 78,
   "id": "f56a7a44",
   "metadata": {},
   "outputs": [
    {
     "data": {
      "text/plain": [
       "['4', '6', 'A', 'F', 'a', 'e', 'h', 't', 'z']"
      ]
     },
     "execution_count": 78,
     "metadata": {},
     "output_type": "execute_result"
    }
   ],
   "source": [
    "alpls"
   ]
  },
  {
   "cell_type": "code",
   "execution_count": 80,
   "id": "af4af684",
   "metadata": {},
   "outputs": [
    {
     "name": "stdout",
     "output_type": "stream",
     "text": [
      "  32\n",
      "! 33\n",
      "\" 34\n",
      "# 35\n",
      "$ 36\n",
      "% 37\n",
      "& 38\n",
      "' 39\n",
      "( 40\n",
      ") 41\n",
      "* 42\n",
      "+ 43\n",
      ", 44\n",
      "- 45\n",
      ". 46\n",
      "/ 47\n",
      "0 48\n",
      "1 49\n",
      "2 50\n",
      "3 51\n",
      "4 52\n",
      "5 53\n",
      "6 54\n",
      "7 55\n",
      "8 56\n",
      "9 57\n",
      ": 58\n",
      "; 59\n",
      "< 60\n",
      "= 61\n",
      "> 62\n",
      "? 63\n",
      "@ 64\n",
      "A 65\n",
      "B 66\n",
      "C 67\n",
      "D 68\n",
      "E 69\n",
      "F 70\n",
      "G 71\n",
      "H 72\n",
      "I 73\n",
      "J 74\n",
      "K 75\n",
      "L 76\n",
      "M 77\n",
      "N 78\n",
      "O 79\n",
      "P 80\n",
      "Q 81\n",
      "R 82\n",
      "S 83\n",
      "T 84\n",
      "U 85\n",
      "V 86\n",
      "W 87\n",
      "X 88\n",
      "Y 89\n",
      "Z 90\n",
      "[ 91\n",
      "\\ 92\n",
      "] 93\n",
      "^ 94\n",
      "_ 95\n",
      "` 96\n",
      "a 97\n",
      "b 98\n",
      "c 99\n",
      "d 100\n",
      "e 101\n",
      "f 102\n",
      "g 103\n",
      "h 104\n",
      "i 105\n",
      "j 106\n",
      "k 107\n",
      "l 108\n",
      "m 109\n",
      "n 110\n",
      "o 111\n",
      "p 112\n",
      "q 113\n",
      "r 114\n",
      "s 115\n",
      "t 116\n",
      "u 117\n",
      "v 118\n",
      "w 119\n",
      "x 120\n",
      "y 121\n",
      "z 122\n"
     ]
    }
   ],
   "source": [
    "for loop in range(32,123):\n",
    "    print(chr(loop),loop)"
   ]
  },
  {
   "cell_type": "code",
   "execution_count": 84,
   "id": "a5a815ab",
   "metadata": {},
   "outputs": [],
   "source": [
    "lst=[[1,2,4,99,345,24,7,32,89]]"
   ]
  },
  {
   "cell_type": "code",
   "execution_count": 85,
   "id": "ccc73bc9",
   "metadata": {},
   "outputs": [],
   "source": [
    "lst.sort()"
   ]
  },
  {
   "cell_type": "code",
   "execution_count": 86,
   "id": "d1db458f",
   "metadata": {},
   "outputs": [
    {
     "data": {
      "text/plain": [
       "[[1, 2, 4, 99, 345, 24, 7, 32, 89]]"
      ]
     },
     "execution_count": 86,
     "metadata": {},
     "output_type": "execute_result"
    }
   ],
   "source": [
    "lst"
   ]
  },
  {
   "cell_type": "code",
   "execution_count": 87,
   "id": "e2f4a9bf",
   "metadata": {},
   "outputs": [],
   "source": [
    "lst[0].sort()"
   ]
  },
  {
   "cell_type": "code",
   "execution_count": 88,
   "id": "94c48209",
   "metadata": {},
   "outputs": [
    {
     "data": {
      "text/plain": [
       "[[1, 2, 4, 7, 24, 32, 89, 99, 345]]"
      ]
     },
     "execution_count": 88,
     "metadata": {},
     "output_type": "execute_result"
    }
   ],
   "source": [
    "lst"
   ]
  },
  {
   "cell_type": "code",
   "execution_count": 89,
   "id": "25401842",
   "metadata": {},
   "outputs": [],
   "source": [
    "ls=[4,6,3,2,5,8]"
   ]
  },
  {
   "cell_type": "code",
   "execution_count": 91,
   "id": "bbc4859f",
   "metadata": {},
   "outputs": [],
   "source": [
    "ls.reverse()"
   ]
  },
  {
   "cell_type": "code",
   "execution_count": 92,
   "id": "e11d7a1b",
   "metadata": {},
   "outputs": [
    {
     "data": {
      "text/plain": [
       "[8, 5, 2, 3, 6, 4]"
      ]
     },
     "execution_count": 92,
     "metadata": {},
     "output_type": "execute_result"
    }
   ],
   "source": [
    "ls"
   ]
  },
  {
   "cell_type": "code",
   "execution_count": 95,
   "id": "7bbfe20a",
   "metadata": {},
   "outputs": [
    {
     "name": "stdout",
     "output_type": "stream",
     "text": [
      "False\n"
     ]
    }
   ],
   "source": [
    "lst=[1,34,6,89,44,32,230,34,8,1]\n",
    "lst.reverse()\n",
    "if lst==lst[::-1]:\n",
    "    print(True)\n",
    "else:\n",
    "    print(False)"
   ]
  },
  {
   "cell_type": "code",
   "execution_count": 96,
   "id": "9faa1956",
   "metadata": {},
   "outputs": [
    {
     "name": "stdout",
     "output_type": "stream",
     "text": [
      "False\n"
     ]
    }
   ],
   "source": [
    "lst=[1,34,6,89,44,32,230,34,8,1]\n",
    "if lst.reverse()==lst[::-1]:\n",
    "    print(True)\n",
    "else:\n",
    "    print(False)"
   ]
  },
  {
   "cell_type": "code",
   "execution_count": null,
   "id": "766f94aa",
   "metadata": {},
   "outputs": [],
   "source": []
  }
 ],
 "metadata": {
  "kernelspec": {
   "display_name": "Python 3 (ipykernel)",
   "language": "python",
   "name": "python3"
  },
  "language_info": {
   "codemirror_mode": {
    "name": "ipython",
    "version": 3
   },
   "file_extension": ".py",
   "mimetype": "text/x-python",
   "name": "python",
   "nbconvert_exporter": "python",
   "pygments_lexer": "ipython3",
   "version": "3.9.13"
  }
 },
 "nbformat": 4,
 "nbformat_minor": 5
}
