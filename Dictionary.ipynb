{
 "cells": [
  {
   "cell_type": "code",
   "execution_count": null,
   "id": "b7a28d1b",
   "metadata": {},
   "outputs": [],
   "source": [
    "d={'Name':\"Tanmay\",'Name':\"Surya\"}"
   ]
  },
  {
   "cell_type": "code",
   "execution_count": null,
   "id": "7b1866cb",
   "metadata": {
    "scrolled": true
   },
   "outputs": [],
   "source": [
    "d"
   ]
  },
  {
   "cell_type": "code",
   "execution_count": null,
   "id": "f52bb8cc",
   "metadata": {},
   "outputs": [],
   "source": [
    "d={'Name':'Surya','Name1':'Surya'}"
   ]
  },
  {
   "cell_type": "code",
   "execution_count": null,
   "id": "0ac98b52",
   "metadata": {},
   "outputs": [],
   "source": [
    "d"
   ]
  },
  {
   "cell_type": "code",
   "execution_count": null,
   "id": "50fec314",
   "metadata": {},
   "outputs": [],
   "source": [
    "ls=['Vipin','Tharun','Surya','Tanmay']"
   ]
  },
  {
   "cell_type": "code",
   "execution_count": null,
   "id": "40228d29",
   "metadata": {},
   "outputs": [],
   "source": [
    "ls"
   ]
  },
  {
   "cell_type": "code",
   "execution_count": null,
   "id": "9b97f897",
   "metadata": {},
   "outputs": [],
   "source": [
    "ls[2]='C S Surya'"
   ]
  },
  {
   "cell_type": "code",
   "execution_count": null,
   "id": "12609271",
   "metadata": {},
   "outputs": [],
   "source": [
    "ls"
   ]
  },
  {
   "cell_type": "code",
   "execution_count": null,
   "id": "4ad19347",
   "metadata": {},
   "outputs": [],
   "source": [
    "d"
   ]
  },
  {
   "cell_type": "code",
   "execution_count": null,
   "id": "fc64f3d6",
   "metadata": {},
   "outputs": [],
   "source": [
    "d['Name1']='Benjamin'"
   ]
  },
  {
   "cell_type": "code",
   "execution_count": null,
   "id": "55f5bade",
   "metadata": {},
   "outputs": [],
   "source": [
    "d"
   ]
  },
  {
   "cell_type": "code",
   "execution_count": null,
   "id": "829717ad",
   "metadata": {},
   "outputs": [],
   "source": [
    "d['name2']=\"Adarsh\""
   ]
  },
  {
   "cell_type": "code",
   "execution_count": null,
   "id": "bc25c27e",
   "metadata": {},
   "outputs": [],
   "source": [
    "d"
   ]
  },
  {
   "cell_type": "code",
   "execution_count": null,
   "id": "22435019",
   "metadata": {},
   "outputs": [],
   "source": [
    "d[\"x\"]=90"
   ]
  },
  {
   "cell_type": "code",
   "execution_count": null,
   "id": "3310f878",
   "metadata": {},
   "outputs": [],
   "source": [
    "d"
   ]
  },
  {
   "cell_type": "code",
   "execution_count": null,
   "id": "6054a774",
   "metadata": {},
   "outputs": [],
   "source": [
    "d[10]=100"
   ]
  },
  {
   "cell_type": "code",
   "execution_count": null,
   "id": "a2c76d97",
   "metadata": {},
   "outputs": [],
   "source": [
    "d"
   ]
  },
  {
   "cell_type": "code",
   "execution_count": null,
   "id": "95070292",
   "metadata": {},
   "outputs": [],
   "source": [
    "d['list']=ls"
   ]
  },
  {
   "cell_type": "code",
   "execution_count": null,
   "id": "9a429572",
   "metadata": {},
   "outputs": [],
   "source": [
    "d"
   ]
  },
  {
   "cell_type": "code",
   "execution_count": null,
   "id": "3b2170ec",
   "metadata": {},
   "outputs": [],
   "source": [
    "d.keys()"
   ]
  },
  {
   "cell_type": "code",
   "execution_count": null,
   "id": "57ca0ef3",
   "metadata": {},
   "outputs": [],
   "source": [
    "ls"
   ]
  },
  {
   "cell_type": "code",
   "execution_count": null,
   "id": "8fb663c4",
   "metadata": {},
   "outputs": [],
   "source": [
    "for elem in ls:\n",
    "    print(elem)"
   ]
  },
  {
   "cell_type": "code",
   "execution_count": null,
   "id": "bdd75a5b",
   "metadata": {},
   "outputs": [],
   "source": [
    "for loop in 'Dave':\n",
    "    print(loop)"
   ]
  },
  {
   "cell_type": "code",
   "execution_count": null,
   "id": "1c8bc26a",
   "metadata": {},
   "outputs": [],
   "source": [
    "len(d)"
   ]
  },
  {
   "cell_type": "code",
   "execution_count": null,
   "id": "394111ed",
   "metadata": {},
   "outputs": [],
   "source": [
    "d"
   ]
  },
  {
   "cell_type": "code",
   "execution_count": null,
   "id": "595986b5",
   "metadata": {},
   "outputs": [],
   "source": [
    "for elm in d.keys():\n",
    "    print(elm)"
   ]
  },
  {
   "cell_type": "code",
   "execution_count": null,
   "id": "7d6dff0f",
   "metadata": {},
   "outputs": [],
   "source": [
    "for elm in d.values():\n",
    "    print(elm)"
   ]
  },
  {
   "cell_type": "code",
   "execution_count": null,
   "id": "f9296403",
   "metadata": {},
   "outputs": [],
   "source": [
    "d.values()"
   ]
  },
  {
   "cell_type": "code",
   "execution_count": null,
   "id": "921fec12",
   "metadata": {},
   "outputs": [],
   "source": [
    "print(d.keys())"
   ]
  },
  {
   "cell_type": "code",
   "execution_count": null,
   "id": "ce068079",
   "metadata": {},
   "outputs": [],
   "source": [
    "d.items()"
   ]
  },
  {
   "cell_type": "code",
   "execution_count": null,
   "id": "2a7afb30",
   "metadata": {},
   "outputs": [],
   "source": [
    "for k,v in d.items():\n",
    "    print(k,v)"
   ]
  },
  {
   "cell_type": "code",
   "execution_count": null,
   "id": "5ffc4922",
   "metadata": {},
   "outputs": [],
   "source": [
    "t=1,2,3,4"
   ]
  },
  {
   "cell_type": "code",
   "execution_count": null,
   "id": "e6058dd4",
   "metadata": {},
   "outputs": [],
   "source": [
    "t"
   ]
  },
  {
   "cell_type": "code",
   "execution_count": null,
   "id": "98428259",
   "metadata": {},
   "outputs": [],
   "source": []
  },
  {
   "cell_type": "code",
   "execution_count": null,
   "id": "bb07acfd",
   "metadata": {},
   "outputs": [],
   "source": [
    "a"
   ]
  },
  {
   "cell_type": "code",
   "execution_count": null,
   "id": "ce80ae53",
   "metadata": {},
   "outputs": [],
   "source": [
    "b"
   ]
  },
  {
   "cell_type": "code",
   "execution_count": null,
   "id": "3cc04061",
   "metadata": {},
   "outputs": [],
   "source": [
    "c"
   ]
  },
  {
   "cell_type": "code",
   "execution_count": null,
   "id": "62a8d71f",
   "metadata": {},
   "outputs": [],
   "source": [
    "d"
   ]
  },
  {
   "cell_type": "code",
   "execution_count": null,
   "id": "7f4a51de",
   "metadata": {},
   "outputs": [],
   "source": [
    "tpl=('g',37,93,'p')"
   ]
  },
  {
   "cell_type": "code",
   "execution_count": null,
   "id": "7afb9961",
   "metadata": {},
   "outputs": [],
   "source": [
    "tpl"
   ]
  },
  {
   "cell_type": "code",
   "execution_count": null,
   "id": "62e03e25",
   "metadata": {},
   "outputs": [],
   "source": [
    "a,x,y,b=tpl"
   ]
  },
  {
   "cell_type": "code",
   "execution_count": null,
   "id": "e5f47a9e",
   "metadata": {},
   "outputs": [],
   "source": [
    "print(a,b,x,y)"
   ]
  },
  {
   "cell_type": "code",
   "execution_count": null,
   "id": "10a1a114",
   "metadata": {},
   "outputs": [],
   "source": [
    "d"
   ]
  },
  {
   "cell_type": "code",
   "execution_count": null,
   "id": "fa2fb1a9",
   "metadata": {},
   "outputs": [],
   "source": [
    "for k,v in d.items():\n",
    "    print(k,v)"
   ]
  },
  {
   "cell_type": "code",
   "execution_count": null,
   "id": "54a86f6b",
   "metadata": {},
   "outputs": [],
   "source": [
    "marklist={'Abraham':[30,67,90],'Babu':[78,43,27],'Jackson':[47,20,45],'Daniel':[88,56,89],'Rituraj':[87,45,22]}"
   ]
  },
  {
   "cell_type": "code",
   "execution_count": null,
   "id": "87c38859",
   "metadata": {},
   "outputs": [],
   "source": [
    "marklist"
   ]
  },
  {
   "cell_type": "code",
   "execution_count": null,
   "id": "ca992627",
   "metadata": {},
   "outputs": [],
   "source": [
    "for key,value in marklist.items():\n",
    "    if value[2]>=40:\n",
    "        print(key)"
   ]
  },
  {
   "cell_type": "code",
   "execution_count": null,
   "id": "3ec1a8b7",
   "metadata": {},
   "outputs": [],
   "source": [
    "for elm in marklist.items():\n",
    "    if elm[1][2]>=40:\n",
    "        print(elm[0])"
   ]
  },
  {
   "cell_type": "code",
   "execution_count": null,
   "id": "86c00e70",
   "metadata": {},
   "outputs": [],
   "source": [
    "ls"
   ]
  },
  {
   "cell_type": "code",
   "execution_count": null,
   "id": "9957baa2",
   "metadata": {},
   "outputs": [],
   "source": [
    "marklist['Jackson']"
   ]
  },
  {
   "cell_type": "code",
   "execution_count": null,
   "id": "bc48ee43",
   "metadata": {},
   "outputs": [],
   "source": [
    "for key in marklist:\n",
    "    if marklist[key][2]>=40:\n",
    "        print(key)"
   ]
  },
  {
   "cell_type": "code",
   "execution_count": null,
   "id": "fa8e4027",
   "metadata": {},
   "outputs": [],
   "source": [
    "Dictionary Functions:\n",
    "    1. keys()\n",
    "    2. values()\n",
    "    3. items()\n",
    "    4. get()\n",
    "    5. update()\n",
    "    6. pop()\n",
    "    7. clear()\n",
    "    8. setdefault()\n",
    "    9. fromkeys()\n",
    "    10. popitem()"
   ]
  },
  {
   "cell_type": "code",
   "execution_count": null,
   "id": "e0e98442",
   "metadata": {},
   "outputs": [],
   "source": []
  },
  {
   "cell_type": "code",
   "execution_count": null,
   "id": "d3543be4",
   "metadata": {},
   "outputs": [],
   "source": [
    "dct={1:\"value1\",2:[1,2,3],3:(3,4,5)}"
   ]
  },
  {
   "cell_type": "code",
   "execution_count": null,
   "id": "4d9c9ac7",
   "metadata": {},
   "outputs": [],
   "source": [
    "1==1.0"
   ]
  },
  {
   "cell_type": "code",
   "execution_count": null,
   "id": "95385d83",
   "metadata": {},
   "outputs": [],
   "source": [
    "dc={1:20,1.0:50}"
   ]
  },
  {
   "cell_type": "code",
   "execution_count": null,
   "id": "dcbe7591",
   "metadata": {},
   "outputs": [],
   "source": [
    "dc"
   ]
  },
  {
   "cell_type": "code",
   "execution_count": null,
   "id": "beca219a",
   "metadata": {},
   "outputs": [],
   "source": [
    "d={1:\"Vipin\",2:\"Vipin\"}"
   ]
  },
  {
   "cell_type": "code",
   "execution_count": null,
   "id": "e51ea206",
   "metadata": {},
   "outputs": [],
   "source": [
    "d"
   ]
  },
  {
   "cell_type": "code",
   "execution_count": null,
   "id": "2f1d2cdb",
   "metadata": {},
   "outputs": [],
   "source": [
    "dct"
   ]
  },
  {
   "cell_type": "code",
   "execution_count": null,
   "id": "b972cc54",
   "metadata": {},
   "outputs": [],
   "source": [
    "dct.keys()"
   ]
  },
  {
   "cell_type": "code",
   "execution_count": null,
   "id": "da036087",
   "metadata": {},
   "outputs": [],
   "source": [
    "dct.values()"
   ]
  },
  {
   "cell_type": "code",
   "execution_count": null,
   "id": "b430eb6e",
   "metadata": {},
   "outputs": [],
   "source": [
    "print(dct.keys())"
   ]
  },
  {
   "cell_type": "code",
   "execution_count": null,
   "id": "fc4c2295",
   "metadata": {},
   "outputs": [],
   "source": [
    "for k in dct.keys():\n",
    "    print(k)"
   ]
  },
  {
   "cell_type": "code",
   "execution_count": null,
   "id": "d7b950fc",
   "metadata": {},
   "outputs": [],
   "source": [
    "for v in dct.values():\n",
    "    print(v)"
   ]
  },
  {
   "cell_type": "code",
   "execution_count": null,
   "id": "f40b88d3",
   "metadata": {},
   "outputs": [],
   "source": [
    "dct.items()"
   ]
  },
  {
   "cell_type": "code",
   "execution_count": null,
   "id": "dfc3319e",
   "metadata": {},
   "outputs": [],
   "source": [
    "for i in dct.items():\n",
    "    print(i)"
   ]
  },
  {
   "cell_type": "code",
   "execution_count": null,
   "id": "7f890522",
   "metadata": {},
   "outputs": [],
   "source": [
    "tpl=1,2,3 #packing of tuple/creating tuple"
   ]
  },
  {
   "cell_type": "code",
   "execution_count": null,
   "id": "91d61f8f",
   "metadata": {},
   "outputs": [],
   "source": [
    "tpl"
   ]
  },
  {
   "cell_type": "code",
   "execution_count": null,
   "id": "f30dba4c",
   "metadata": {},
   "outputs": [],
   "source": [
    "a,b,c=tpl #unpacking of tuple"
   ]
  },
  {
   "cell_type": "code",
   "execution_count": null,
   "id": "890109ff",
   "metadata": {},
   "outputs": [],
   "source": [
    "a"
   ]
  },
  {
   "cell_type": "code",
   "execution_count": null,
   "id": "56db778c",
   "metadata": {},
   "outputs": [],
   "source": [
    "b"
   ]
  },
  {
   "cell_type": "code",
   "execution_count": null,
   "id": "c8daa617",
   "metadata": {},
   "outputs": [],
   "source": [
    "c"
   ]
  },
  {
   "cell_type": "code",
   "execution_count": null,
   "id": "8f7c24ca",
   "metadata": {},
   "outputs": [],
   "source": [
    "x,y=tpl"
   ]
  },
  {
   "cell_type": "code",
   "execution_count": null,
   "id": "b97eb0fb",
   "metadata": {},
   "outputs": [],
   "source": [
    "p,q,r,s=tpl"
   ]
  },
  {
   "cell_type": "code",
   "execution_count": null,
   "id": "4efca90d",
   "metadata": {},
   "outputs": [],
   "source": [
    "for i in dct.items():\n",
    "    print(i)"
   ]
  },
  {
   "cell_type": "code",
   "execution_count": null,
   "id": "a7c8266f",
   "metadata": {},
   "outputs": [],
   "source": [
    "for k,v in dct.items():\n",
    "    print(v)"
   ]
  },
  {
   "cell_type": "code",
   "execution_count": null,
   "id": "f78ec5ff",
   "metadata": {},
   "outputs": [],
   "source": [
    "st=\"Class 12\""
   ]
  },
  {
   "cell_type": "code",
   "execution_count": null,
   "id": "66c73c4d",
   "metadata": {},
   "outputs": [],
   "source": [
    "st[6]"
   ]
  },
  {
   "cell_type": "code",
   "execution_count": null,
   "id": "4aa351e0",
   "metadata": {},
   "outputs": [],
   "source": [
    "st[-2]"
   ]
  },
  {
   "cell_type": "code",
   "execution_count": null,
   "id": "42912486",
   "metadata": {},
   "outputs": [],
   "source": [
    "dct"
   ]
  },
  {
   "cell_type": "code",
   "execution_count": null,
   "id": "1c92b6d8",
   "metadata": {},
   "outputs": [],
   "source": [
    "dct[3]"
   ]
  },
  {
   "cell_type": "code",
   "execution_count": null,
   "id": "882a550f",
   "metadata": {},
   "outputs": [],
   "source": [
    "dct['Name']=\"Ragul\""
   ]
  },
  {
   "cell_type": "code",
   "execution_count": null,
   "id": "4b1f2ef2",
   "metadata": {},
   "outputs": [],
   "source": [
    "dct"
   ]
  },
  {
   "cell_type": "code",
   "execution_count": null,
   "id": "ac978e0b",
   "metadata": {},
   "outputs": [],
   "source": [
    "dct['Name']"
   ]
  },
  {
   "cell_type": "code",
   "execution_count": null,
   "id": "6bbff39a",
   "metadata": {},
   "outputs": [],
   "source": [
    "dct[2]"
   ]
  },
  {
   "cell_type": "code",
   "execution_count": null,
   "id": "532ff3e8",
   "metadata": {},
   "outputs": [],
   "source": [
    "dct"
   ]
  },
  {
   "cell_type": "code",
   "execution_count": null,
   "id": "a16095cb",
   "metadata": {},
   "outputs": [],
   "source": [
    "dct.get(1)"
   ]
  },
  {
   "cell_type": "code",
   "execution_count": null,
   "id": "68b21cb5",
   "metadata": {
    "scrolled": true
   },
   "outputs": [],
   "source": [
    "dct.get('Name')"
   ]
  },
  {
   "cell_type": "code",
   "execution_count": null,
   "id": "4b24527a",
   "metadata": {
    "scrolled": true
   },
   "outputs": [],
   "source": [
    "dct.get()"
   ]
  },
  {
   "cell_type": "code",
   "execution_count": null,
   "id": "5d59e6c4",
   "metadata": {},
   "outputs": [],
   "source": [
    "dct.get(99)"
   ]
  },
  {
   "cell_type": "code",
   "execution_count": null,
   "id": "7824d025",
   "metadata": {},
   "outputs": [],
   "source": [
    "dct.get(99,\"no such key\")"
   ]
  },
  {
   "cell_type": "code",
   "execution_count": null,
   "id": "61b69563",
   "metadata": {},
   "outputs": [],
   "source": [
    "d={'k1':'v1','List':[39,45,33],'Tuple':(203,432),'i':23,1:10}"
   ]
  },
  {
   "cell_type": "code",
   "execution_count": null,
   "id": "59f7b856",
   "metadata": {},
   "outputs": [],
   "source": [
    "d"
   ]
  },
  {
   "cell_type": "code",
   "execution_count": null,
   "id": "b00b361a",
   "metadata": {},
   "outputs": [],
   "source": [
    "d['k1']"
   ]
  },
  {
   "cell_type": "code",
   "execution_count": null,
   "id": "2d73d959",
   "metadata": {},
   "outputs": [],
   "source": [
    "d['List']"
   ]
  },
  {
   "cell_type": "code",
   "execution_count": null,
   "id": "65061a62",
   "metadata": {},
   "outputs": [],
   "source": [
    "d[1]"
   ]
  },
  {
   "cell_type": "code",
   "execution_count": null,
   "id": "5006c727",
   "metadata": {},
   "outputs": [],
   "source": [
    "d[99]"
   ]
  },
  {
   "cell_type": "code",
   "execution_count": null,
   "id": "78382d61",
   "metadata": {},
   "outputs": [],
   "source": [
    "d[1]"
   ]
  },
  {
   "cell_type": "code",
   "execution_count": null,
   "id": "dfb24cef",
   "metadata": {},
   "outputs": [],
   "source": [
    "d[-1]"
   ]
  },
  {
   "cell_type": "code",
   "execution_count": null,
   "id": "533c65f2",
   "metadata": {},
   "outputs": [],
   "source": [
    "d[1.0]"
   ]
  },
  {
   "cell_type": "code",
   "execution_count": null,
   "id": "b1835604",
   "metadata": {},
   "outputs": [],
   "source": [
    "d"
   ]
  },
  {
   "cell_type": "code",
   "execution_count": null,
   "id": "e5c17518",
   "metadata": {},
   "outputs": [],
   "source": [
    "d[1]"
   ]
  },
  {
   "cell_type": "code",
   "execution_count": null,
   "id": "0808e554",
   "metadata": {},
   "outputs": [],
   "source": [
    "d[1.0]"
   ]
  },
  {
   "cell_type": "code",
   "execution_count": null,
   "id": "b29e82f7",
   "metadata": {},
   "outputs": [],
   "source": [
    "d.get(1)"
   ]
  },
  {
   "cell_type": "code",
   "execution_count": null,
   "id": "b7942021",
   "metadata": {},
   "outputs": [],
   "source": [
    "d.get(1.0)"
   ]
  },
  {
   "cell_type": "code",
   "execution_count": null,
   "id": "6d1a2701",
   "metadata": {},
   "outputs": [],
   "source": [
    "d.get('Tuple')"
   ]
  },
  {
   "cell_type": "code",
   "execution_count": null,
   "id": "61bf0a5e",
   "metadata": {},
   "outputs": [],
   "source": [
    "d.get('list')"
   ]
  },
  {
   "cell_type": "code",
   "execution_count": null,
   "id": "74326a3d",
   "metadata": {},
   "outputs": [],
   "source": [
    "d"
   ]
  },
  {
   "cell_type": "code",
   "execution_count": null,
   "id": "73d02f2f",
   "metadata": {},
   "outputs": [],
   "source": [
    "d.get('z')"
   ]
  },
  {
   "cell_type": "code",
   "execution_count": null,
   "id": "a28d84b8",
   "metadata": {},
   "outputs": [],
   "source": [
    "d.get('-20')"
   ]
  },
  {
   "cell_type": "code",
   "execution_count": null,
   "id": "88311d11",
   "metadata": {},
   "outputs": [],
   "source": [
    "d.get('k1')"
   ]
  },
  {
   "cell_type": "code",
   "execution_count": null,
   "id": "b2913a6a",
   "metadata": {},
   "outputs": [],
   "source": [
    "d.get('google')"
   ]
  },
  {
   "cell_type": "code",
   "execution_count": null,
   "id": "dc2e1331",
   "metadata": {},
   "outputs": [],
   "source": [
    "get():\n",
    "    1. It gives the value of the key passed as the parameter\n",
    "    2. It takes 2 parameters:\n",
    "        1. key [compulsory]\n",
    "        2. msg to be displayed in case of no key found [optional]\n",
    "    3. Does not produce error or it does not give any o/p if a key is not found\n",
    "    (msg given will be printed)\n"
   ]
  },
  {
   "cell_type": "code",
   "execution_count": null,
   "id": "9bfef88b",
   "metadata": {},
   "outputs": [],
   "source": [
    "d.get()"
   ]
  },
  {
   "cell_type": "code",
   "execution_count": null,
   "id": "2b861b88",
   "metadata": {},
   "outputs": [],
   "source": [
    "d.get(2)"
   ]
  },
  {
   "cell_type": "code",
   "execution_count": null,
   "id": "23136630",
   "metadata": {},
   "outputs": [],
   "source": [
    "d.get(2,'No Key FOUND')"
   ]
  },
  {
   "cell_type": "code",
   "execution_count": null,
   "id": "077ce05e",
   "metadata": {},
   "outputs": [],
   "source": [
    "d.get(3,'Invalid Key')"
   ]
  },
  {
   "cell_type": "code",
   "execution_count": null,
   "id": "6bd8a5ba",
   "metadata": {},
   "outputs": [],
   "source": [
    "d[3]"
   ]
  },
  {
   "cell_type": "code",
   "execution_count": null,
   "id": "eb1bcdaf",
   "metadata": {},
   "outputs": [],
   "source": [
    "d.get(3)"
   ]
  },
  {
   "cell_type": "code",
   "execution_count": null,
   "id": "8361cb2a",
   "metadata": {},
   "outputs": [],
   "source": [
    "d"
   ]
  },
  {
   "cell_type": "code",
   "execution_count": null,
   "id": "4725fdea",
   "metadata": {},
   "outputs": [],
   "source": [
    "d.update({2:20})"
   ]
  },
  {
   "cell_type": "code",
   "execution_count": null,
   "id": "0b202c95",
   "metadata": {},
   "outputs": [],
   "source": [
    "d"
   ]
  },
  {
   "cell_type": "code",
   "execution_count": null,
   "id": "1e87bab0",
   "metadata": {},
   "outputs": [],
   "source": [
    "d.update(rno=1201)"
   ]
  },
  {
   "cell_type": "code",
   "execution_count": null,
   "id": "33bbe5b6",
   "metadata": {},
   "outputs": [],
   "source": [
    "d"
   ]
  },
  {
   "cell_type": "code",
   "execution_count": null,
   "id": "0041dad9",
   "metadata": {},
   "outputs": [],
   "source": [
    "d.update(Name='Ragul',cls=12)"
   ]
  },
  {
   "cell_type": "code",
   "execution_count": null,
   "id": "34ca067c",
   "metadata": {},
   "outputs": [],
   "source": [
    "d"
   ]
  },
  {
   "cell_type": "code",
   "execution_count": null,
   "id": "38420b30",
   "metadata": {},
   "outputs": [],
   "source": [
    "d.update({3:30,'st':'somestr'})"
   ]
  },
  {
   "cell_type": "code",
   "execution_count": null,
   "id": "a12d4745",
   "metadata": {},
   "outputs": [],
   "source": [
    "d"
   ]
  },
  {
   "cell_type": "code",
   "execution_count": null,
   "id": "6be8b2f1",
   "metadata": {},
   "outputs": [],
   "source": [
    "Name='Haran'"
   ]
  },
  {
   "cell_type": "code",
   "execution_count": null,
   "id": "8b0ce3a8",
   "metadata": {},
   "outputs": [],
   "source": [
    "'Name'='Harish'"
   ]
  },
  {
   "cell_type": "code",
   "execution_count": null,
   "id": "4997fe2c",
   "metadata": {},
   "outputs": [],
   "source": [
    "d"
   ]
  },
  {
   "cell_type": "code",
   "execution_count": null,
   "id": "d73a0df4",
   "metadata": {},
   "outputs": [],
   "source": [
    "d.update(cls=11)"
   ]
  },
  {
   "cell_type": "code",
   "execution_count": null,
   "id": "ae719c62",
   "metadata": {},
   "outputs": [],
   "source": [
    "d"
   ]
  },
  {
   "cell_type": "code",
   "execution_count": null,
   "id": "662ee207",
   "metadata": {},
   "outputs": [],
   "source": [
    "d.update(Name='Dhrishika')"
   ]
  },
  {
   "cell_type": "code",
   "execution_count": null,
   "id": "8badfbd0",
   "metadata": {},
   "outputs": [],
   "source": [
    "d"
   ]
  },
  {
   "cell_type": "code",
   "execution_count": null,
   "id": "992b29e5",
   "metadata": {},
   "outputs": [],
   "source": [
    "update():\n",
    "    1. It is used to perform:\n",
    "        1. add new elem (single/multiple)\n",
    "        2. modify an existing elem\n",
    "    2. No. of parameters taken is based on the no. of elems given by the user\n",
    "    "
   ]
  },
  {
   "cell_type": "code",
   "execution_count": 2,
   "id": "860553be",
   "metadata": {},
   "outputs": [],
   "source": [
    "d={1:10,2:20}"
   ]
  },
  {
   "cell_type": "code",
   "execution_count": 3,
   "id": "bfc77468",
   "metadata": {},
   "outputs": [
    {
     "data": {
      "text/plain": [
       "{1: 10, 2: 20}"
      ]
     },
     "execution_count": 3,
     "metadata": {},
     "output_type": "execute_result"
    }
   ],
   "source": [
    "d"
   ]
  },
  {
   "cell_type": "code",
   "execution_count": 4,
   "id": "d9248a3f",
   "metadata": {},
   "outputs": [],
   "source": [
    "d.update({3:30})"
   ]
  },
  {
   "cell_type": "code",
   "execution_count": 5,
   "id": "b536ed21",
   "metadata": {},
   "outputs": [
    {
     "data": {
      "text/plain": [
       "{1: 10, 2: 20, 3: 30}"
      ]
     },
     "execution_count": 5,
     "metadata": {},
     "output_type": "execute_result"
    }
   ],
   "source": [
    "d"
   ]
  },
  {
   "cell_type": "code",
   "execution_count": 6,
   "id": "e46da3fb",
   "metadata": {},
   "outputs": [],
   "source": [
    "d.update(Name=\"Ashwin\")"
   ]
  },
  {
   "cell_type": "code",
   "execution_count": 7,
   "id": "c2745160",
   "metadata": {},
   "outputs": [
    {
     "data": {
      "text/plain": [
       "{1: 10, 2: 20, 3: 30, 'Name': 'Ashwin'}"
      ]
     },
     "execution_count": 7,
     "metadata": {},
     "output_type": "execute_result"
    }
   ],
   "source": [
    "d"
   ]
  },
  {
   "cell_type": "code",
   "execution_count": null,
   "id": "fc3791aa",
   "metadata": {},
   "outputs": [],
   "source": [
    "d.update('Name'='Ashwin')"
   ]
  },
  {
   "cell_type": "code",
   "execution_count": null,
   "id": "4c1b8c4d",
   "metadata": {},
   "outputs": [],
   "source": [
    "d.update(\"google\")"
   ]
  },
  {
   "cell_type": "code",
   "execution_count": null,
   "id": "4a94c570",
   "metadata": {},
   "outputs": [],
   "source": [
    "d.update({\"google\"})"
   ]
  },
  {
   "cell_type": "code",
   "execution_count": 8,
   "id": "72231852",
   "metadata": {},
   "outputs": [
    {
     "data": {
      "text/plain": [
       "{1: 10, 2: 20, 3: 30, 'Name': 'Ashwin'}"
      ]
     },
     "execution_count": 8,
     "metadata": {},
     "output_type": "execute_result"
    }
   ],
   "source": [
    "d"
   ]
  },
  {
   "cell_type": "code",
   "execution_count": 9,
   "id": "c3a755a9",
   "metadata": {},
   "outputs": [],
   "source": [
    "ls=[1,5,7]"
   ]
  },
  {
   "cell_type": "code",
   "execution_count": 10,
   "id": "090c0ec2",
   "metadata": {},
   "outputs": [
    {
     "data": {
      "text/plain": [
       "7"
      ]
     },
     "execution_count": 10,
     "metadata": {},
     "output_type": "execute_result"
    }
   ],
   "source": [
    "ls.pop(2)"
   ]
  },
  {
   "cell_type": "code",
   "execution_count": null,
   "id": "bb87093a",
   "metadata": {},
   "outputs": [],
   "source": [
    "pop():\n",
    "    1. It is used for deleting an elem.\n",
    "    2. pop() takes atleast 1 parameter (compulsory) and another optional\n",
    "        parameter which is the msg if the key is not found.\n",
    "    3. It'll del and return the elem.\n",
    "    "
   ]
  },
  {
   "cell_type": "code",
   "execution_count": 11,
   "id": "bc192b6c",
   "metadata": {},
   "outputs": [
    {
     "data": {
      "text/plain": [
       "{1: 10, 2: 20, 3: 30, 'Name': 'Ashwin'}"
      ]
     },
     "execution_count": 11,
     "metadata": {},
     "output_type": "execute_result"
    }
   ],
   "source": [
    "d"
   ]
  },
  {
   "cell_type": "code",
   "execution_count": 12,
   "id": "147df72d",
   "metadata": {},
   "outputs": [],
   "source": [
    "d.update(rno=12204)"
   ]
  },
  {
   "cell_type": "code",
   "execution_count": 13,
   "id": "71a579de",
   "metadata": {},
   "outputs": [
    {
     "data": {
      "text/plain": [
       "{1: 10, 2: 20, 3: 30, 'Name': 'Ashwin', 'rno': 12204}"
      ]
     },
     "execution_count": 13,
     "metadata": {},
     "output_type": "execute_result"
    }
   ],
   "source": [
    "d"
   ]
  },
  {
   "cell_type": "code",
   "execution_count": 14,
   "id": "0227b9e2",
   "metadata": {},
   "outputs": [],
   "source": [
    "d.update(subj='CS')"
   ]
  },
  {
   "cell_type": "code",
   "execution_count": 15,
   "id": "e786c47c",
   "metadata": {},
   "outputs": [
    {
     "data": {
      "text/plain": [
       "{1: 10, 2: 20, 3: 30, 'Name': 'Ashwin', 'rno': 12204, 'subj': 'CS'}"
      ]
     },
     "execution_count": 15,
     "metadata": {},
     "output_type": "execute_result"
    }
   ],
   "source": [
    "d"
   ]
  },
  {
   "cell_type": "code",
   "execution_count": 16,
   "id": "28db3da6",
   "metadata": {},
   "outputs": [
    {
     "ename": "TypeError",
     "evalue": "pop expected at least 1 argument, got 0",
     "output_type": "error",
     "traceback": [
      "\u001b[1;31m---------------------------------------------------------------------------\u001b[0m",
      "\u001b[1;31mTypeError\u001b[0m                                 Traceback (most recent call last)",
      "\u001b[1;32m~\\AppData\\Local\\Temp\\ipykernel_16452\\1274378990.py\u001b[0m in \u001b[0;36m<module>\u001b[1;34m\u001b[0m\n\u001b[1;32m----> 1\u001b[1;33m \u001b[0md\u001b[0m\u001b[1;33m.\u001b[0m\u001b[0mpop\u001b[0m\u001b[1;33m(\u001b[0m\u001b[1;33m)\u001b[0m\u001b[1;33m\u001b[0m\u001b[1;33m\u001b[0m\u001b[0m\n\u001b[0m",
      "\u001b[1;31mTypeError\u001b[0m: pop expected at least 1 argument, got 0"
     ]
    }
   ],
   "source": [
    "d.pop()"
   ]
  },
  {
   "cell_type": "code",
   "execution_count": 17,
   "id": "c41c7291",
   "metadata": {},
   "outputs": [
    {
     "data": {
      "text/plain": [
       "5"
      ]
     },
     "execution_count": 17,
     "metadata": {},
     "output_type": "execute_result"
    }
   ],
   "source": [
    "ls.pop()"
   ]
  },
  {
   "cell_type": "code",
   "execution_count": 18,
   "id": "f8a0d19e",
   "metadata": {},
   "outputs": [
    {
     "data": {
      "text/plain": [
       "{1: 10, 2: 20, 3: 30, 'Name': 'Ashwin', 'rno': 12204, 'subj': 'CS'}"
      ]
     },
     "execution_count": 18,
     "metadata": {},
     "output_type": "execute_result"
    }
   ],
   "source": [
    "d"
   ]
  },
  {
   "cell_type": "code",
   "execution_count": 19,
   "id": "52012ea5",
   "metadata": {},
   "outputs": [
    {
     "data": {
      "text/plain": [
       "20"
      ]
     },
     "execution_count": 19,
     "metadata": {},
     "output_type": "execute_result"
    }
   ],
   "source": [
    "d.pop(2)"
   ]
  },
  {
   "cell_type": "code",
   "execution_count": 20,
   "id": "6608f55b",
   "metadata": {},
   "outputs": [
    {
     "data": {
      "text/plain": [
       "{1: 10, 3: 30, 'Name': 'Ashwin', 'rno': 12204, 'subj': 'CS'}"
      ]
     },
     "execution_count": 20,
     "metadata": {},
     "output_type": "execute_result"
    }
   ],
   "source": [
    "d"
   ]
  },
  {
   "cell_type": "code",
   "execution_count": 21,
   "id": "912a5ed4",
   "metadata": {},
   "outputs": [
    {
     "ename": "KeyError",
     "evalue": "2",
     "output_type": "error",
     "traceback": [
      "\u001b[1;31m---------------------------------------------------------------------------\u001b[0m",
      "\u001b[1;31mKeyError\u001b[0m                                  Traceback (most recent call last)",
      "\u001b[1;32m~\\AppData\\Local\\Temp\\ipykernel_16452\\262242384.py\u001b[0m in \u001b[0;36m<module>\u001b[1;34m\u001b[0m\n\u001b[1;32m----> 1\u001b[1;33m \u001b[0md\u001b[0m\u001b[1;33m.\u001b[0m\u001b[0mpop\u001b[0m\u001b[1;33m(\u001b[0m\u001b[1;36m2\u001b[0m\u001b[1;33m)\u001b[0m\u001b[1;33m\u001b[0m\u001b[1;33m\u001b[0m\u001b[0m\n\u001b[0m",
      "\u001b[1;31mKeyError\u001b[0m: 2"
     ]
    }
   ],
   "source": [
    "d.pop(2)"
   ]
  },
  {
   "cell_type": "code",
   "execution_count": 22,
   "id": "4bac31cd",
   "metadata": {},
   "outputs": [
    {
     "data": {
      "text/plain": [
       "'No Key'"
      ]
     },
     "execution_count": 22,
     "metadata": {},
     "output_type": "execute_result"
    }
   ],
   "source": [
    "d.pop(2,\"No Key\")"
   ]
  },
  {
   "cell_type": "code",
   "execution_count": 23,
   "id": "fb70afdb",
   "metadata": {},
   "outputs": [
    {
     "data": {
      "text/plain": [
       "30"
      ]
     },
     "execution_count": 23,
     "metadata": {},
     "output_type": "execute_result"
    }
   ],
   "source": [
    "d.pop(3,\"key found\")"
   ]
  },
  {
   "cell_type": "code",
   "execution_count": 24,
   "id": "15f142d8",
   "metadata": {},
   "outputs": [
    {
     "data": {
      "text/plain": [
       "'no key'"
      ]
     },
     "execution_count": 24,
     "metadata": {},
     "output_type": "execute_result"
    }
   ],
   "source": [
    "d.pop(3,\"no key\")"
   ]
  },
  {
   "cell_type": "code",
   "execution_count": 25,
   "id": "4e661f85",
   "metadata": {},
   "outputs": [
    {
     "data": {
      "text/plain": [
       "{1: 10, 'Name': 'Ashwin', 'rno': 12204, 'subj': 'CS'}"
      ]
     },
     "execution_count": 25,
     "metadata": {},
     "output_type": "execute_result"
    }
   ],
   "source": [
    "d"
   ]
  },
  {
   "cell_type": "code",
   "execution_count": 26,
   "id": "ed56d71b",
   "metadata": {},
   "outputs": [
    {
     "data": {
      "text/plain": [
       "{1: 10, 'Name': 'Ashwin', 'rno': 12204, 'subj': 'CS'}"
      ]
     },
     "execution_count": 26,
     "metadata": {},
     "output_type": "execute_result"
    }
   ],
   "source": [
    "d"
   ]
  },
  {
   "cell_type": "code",
   "execution_count": 27,
   "id": "949dbeb6",
   "metadata": {},
   "outputs": [],
   "source": [
    "delelem=d.pop(1)"
   ]
  },
  {
   "cell_type": "code",
   "execution_count": 28,
   "id": "b4cdab85",
   "metadata": {},
   "outputs": [
    {
     "data": {
      "text/plain": [
       "10"
      ]
     },
     "execution_count": 28,
     "metadata": {},
     "output_type": "execute_result"
    }
   ],
   "source": [
    "delelem"
   ]
  },
  {
   "cell_type": "code",
   "execution_count": 29,
   "id": "1270399c",
   "metadata": {},
   "outputs": [
    {
     "data": {
      "text/plain": [
       "{'Name': 'Ashwin', 'rno': 12204, 'subj': 'CS'}"
      ]
     },
     "execution_count": 29,
     "metadata": {},
     "output_type": "execute_result"
    }
   ],
   "source": [
    "d"
   ]
  },
  {
   "cell_type": "code",
   "execution_count": 30,
   "id": "4ebd4bbc",
   "metadata": {},
   "outputs": [
    {
     "data": {
      "text/plain": [
       "2628953678720"
      ]
     },
     "execution_count": 30,
     "metadata": {},
     "output_type": "execute_result"
    }
   ],
   "source": [
    "id(d)"
   ]
  },
  {
   "cell_type": "code",
   "execution_count": 31,
   "id": "e8086774",
   "metadata": {},
   "outputs": [],
   "source": [
    "d.clear()"
   ]
  },
  {
   "cell_type": "code",
   "execution_count": 32,
   "id": "28d91a8a",
   "metadata": {},
   "outputs": [
    {
     "data": {
      "text/plain": [
       "{}"
      ]
     },
     "execution_count": 32,
     "metadata": {},
     "output_type": "execute_result"
    }
   ],
   "source": [
    "d"
   ]
  },
  {
   "cell_type": "code",
   "execution_count": 33,
   "id": "efa092cd",
   "metadata": {},
   "outputs": [
    {
     "data": {
      "text/plain": [
       "2628953678720"
      ]
     },
     "execution_count": 33,
     "metadata": {},
     "output_type": "execute_result"
    }
   ],
   "source": [
    "id(d)"
   ]
  },
  {
   "cell_type": "code",
   "execution_count": 34,
   "id": "2e99e88e",
   "metadata": {},
   "outputs": [
    {
     "name": "stdout",
     "output_type": "stream",
     "text": [
      "{}\n"
     ]
    }
   ],
   "source": [
    "print(d)"
   ]
  },
  {
   "cell_type": "code",
   "execution_count": null,
   "id": "5d8ee1a5",
   "metadata": {},
   "outputs": [],
   "source": [
    "clear():\n",
    "    1. It empties the dictionary (clears all the elems)\n",
    "    2. It doesnot take any parameter\n",
    "    (and the dict remains in the mem.)"
   ]
  }
 ],
 "metadata": {
  "kernelspec": {
   "display_name": "Python 3 (ipykernel)",
   "language": "python",
   "name": "python3"
  },
  "language_info": {
   "codemirror_mode": {
    "name": "ipython",
    "version": 3
   },
   "file_extension": ".py",
   "mimetype": "text/x-python",
   "name": "python",
   "nbconvert_exporter": "python",
   "pygments_lexer": "ipython3",
   "version": "3.9.13"
  }
 },
 "nbformat": 4,
 "nbformat_minor": 5
}
